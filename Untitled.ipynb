{
 "cells": [
  {
   "cell_type": "code",
   "execution_count": null,
   "metadata": {},
   "outputs": [],
   "source": [
    "cols = ['chihuahua', 'japanese_spaniel',\n",
    "       'maltese_dog', 'pekinese', 'shih-tzu',\n",
    "       'blenheim_spaniel', 'papillon',\n",
    "       'toy_terrier', 'rhodesian_ridgeback',\n",
    "       'afghan_hound','basset', 'beagle', 'bloodhound',\n",
    "       'bluetick', 'black-and-tan_coonhound',\n",
    "       'walker_hound', 'english_foxhound',\n",
    "       'redbone', 'borzoi', 'irish_wolfhound','italian_greyhound', 'whippet',\n",
    "       'ibizan_hound', 'norwegian_elkhound',\n",
    "       'otterhound', 'saluki',\n",
    "       'scottish_deerhound', 'weimaraner',\n",
    "       'staffordshire_bullterrier',\n",
    "       'american_staffordshire_terrier', 'Bedlington_terrier', 'Border_terrier',\n",
    "       'Kerry_blue_terrier', 'Irish_terrier',\n",
    "       'Norfolk_terrier', 'Norwich_terrier',\n",
    "       'Yorkshire_terrier', 'wire-haired_fox_terrier',\n",
    "       'Lakeland_terrier', 'Sealyham_terrier', 'Airedale', 'cairn', 'Australian_terrier',\n",
    "       'Dandie_Dinmont', 'Boston_bull',\n",
    "       'miniature_schnauzer', 'giant_schnauzer',\n",
    "       'standard_schnauzer', 'Scotch_terrier',\n",
    "       'Tibetan_terrier', 'silky_terrier', 'soft-coated_wheaten_terrier',\n",
    "       'West_Highland_white_terrier', 'Lhasa',\n",
    "       'flat-coated_retriever', 'curly-coated_retriever',\n",
    "       'golden_retriever', 'Labrador_retriever',\n",
    "       'Chesapeake_Bay_retriever',\n",
    "       'German_short-haired_pointer', 'vizsla', 'English_setter',\n",
    "       'Irish_setter', 'Gordon_setter',\n",
    "       'Brittany_spaniel', 'clumber',\n",
    "       'English_springer', 'Welsh_springer_spaniel',\n",
    "       'cocker_spaniel', 'Sussex_spaniel', 'Irish_water_spaniel', 'kuvasz',\n",
    "       'schipperke', 'groenendael', 'malinois',\n",
    "       'briard', 'kelpie', 'komondor',\n",
    "       'Old_English_sheepdog', 'Shetland_sheepdog', 'collie', 'Border_collie',\n",
    "       'Bouvier_des_Flandres', 'Rottweiler',\n",
    "       'German_shepherd', 'Doberman',\n",
    "       'miniature_pinscher', 'Greater_Swiss_Mountain_dog',\n",
    "       'Bernese_mountain_dog', 'Appenzeller', 'EntleBucher', 'boxer', 'bull_mastiff',\n",
    "       'Tibetan_mastiff', 'French_bulldog',\n",
    "       'Great_Dane', 'Saint_Bernard',\n",
    "       'Eskimo_dog', 'malamute',\n",
    "       'Leonberg', 'Newfoundland',\n",
    "       'Great_Pyrenees', 'Samoyed', 'Pomeranian',\n",
    "       'chow', 'keeshond', 'Brabancon_griffon', 'Pembroke',\n",
    "       'Cardigan', 'toy_poodle',\n",
    "       'miniature_poodle', 'standard_poodle',\n",
    "       'Mexican_hairless', 'dingo', 'dhole',\n",
    "       'African_hunting_dog', 'id']"
   ]
  },
  {
   "cell_type": "code",
   "execution_count": null,
   "metadata": {},
   "outputs": [],
   "source": []
  }
 ],
 "metadata": {
  "kernelspec": {
   "display_name": "Python 3",
   "language": "python",
   "name": "python3"
  }
 },
 "nbformat": 4,
 "nbformat_minor": 2
}
