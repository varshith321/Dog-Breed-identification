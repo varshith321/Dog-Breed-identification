{
 "cells": [
  {
   "cell_type": "code",
   "execution_count": 8,
   "metadata": {},
   "outputs": [],
   "source": [
    "from __future__ import print_function\n",
    "\n",
    "import os.path\n",
    "\n",
    "import keras\n",
    "from keras import applications, metrics, layers, models, regularizers, optimizers\n",
    "from keras.applications import ResNet50, Xception, InceptionResNetV2\n",
    "from keras.models import *\n",
    "from keras.layers import *\n",
    "from keras.callbacks import *\n",
    "from keras.preprocessing.image import ImageDataGenerator\n",
    "\n",
    "# Globals\n",
    "BATCH_SIZE = 32   # tweak to your GPUs capacity\n",
    "IMG_HEIGHT = 299   # ResNetInceptionv2 & Xception like 299, ResNet50 & VGG like 224\n",
    "IMG_WIDTH = IMG_HEIGHT\n",
    "CHANNELS = 3\n",
    "DIMS = (IMG_HEIGHT,IMG_WIDTH,CHANNELS) # what an ugly holdover from a framework not even supported by it's authors\n",
    "BEST_MODEL = 'keras.best.h5'"
   ]
  },
  {
   "cell_type": "code",
   "execution_count": 15,
   "metadata": {},
   "outputs": [
    {
     "name": "stdout",
     "output_type": "stream",
     "text": [
      "Found 20580 images belonging to 120 classes.\n"
     ]
    }
   ],
   "source": [
    "train_datagen = ImageDataGenerator(\n",
    "    rescale=1./255,\n",
    "    rotation_range=40,\n",
    "    width_shift_range=0.2,\n",
    "    height_shift_range=0.2,\n",
    "    horizontal_flip=True,\n",
    "    shear_range=0.1,)\n",
    "\n",
    "train_generator = train_datagen.flow_from_directory(\n",
    "    'D:\\ML\\Dog_Breed\\stanford\\Images',  # this is the target directory\n",
    "    target_size=(IMG_HEIGHT,IMG_WIDTH),\n",
    "    batch_size=BATCH_SIZE,\n",
    "    class_mode='categorical')"
   ]
  },
  {
   "cell_type": "code",
   "execution_count": 12,
   "metadata": {},
   "outputs": [],
   "source": [
    "\n",
    "classes = len(train_generator.class_indices)\n",
    "callbacks = [ModelCheckpoint(filepath=BEST_MODEL, verbose=0, save_best_only=True),\n",
    "             EarlyStopping(monitor='val_acc', patience=3, verbose=0)]\n",
    "\n",
    "# base_model = Xception(input_shape=DIMS, weights='imagenet', include_top=False) #~\n",
    "base_model = ResNet50(weights='imagenet', include_top=False, input_shape= (299,299 , 3))\n",
    "#base_model = InceptionResNetV2(input_shape=DIMS, weights='imagenet', include_top=False)\n",
    "for layer in base_model.layers:\n",
    "    layer.trainable = False\n",
    "\n",
    "x = base_model.output\n",
    "\n",
    "# x = Flatten()(x)\n",
    "# x = Dense(classes, activation='softmax', name='predictions')(x)\n",
    "\n",
    "x = GlobalAveragePooling2D(name='avg_pool')(base_model.output)\n",
    "x = Dense(classes, activation='softmax', name='predictions')(x)\n",
    "\n",
    "model = Model(inputs=base_model.input, outputs=x)"
   ]
  },
  {
   "cell_type": "code",
   "execution_count": 13,
   "metadata": {},
   "outputs": [
    {
     "name": "stdout",
     "output_type": "stream",
     "text": [
      "Epoch 1/20\n",
      "644/643 [==============================] - 887s 1s/step - loss: 2.4897 - acc: 0.3987\n"
     ]
    },
    {
     "name": "stderr",
     "output_type": "stream",
     "text": [
      "c:\\users\\varshith\\anaconda3\\envs\\tensorflow_gpuenv\\lib\\site-packages\\keras\\callbacks.py:434: RuntimeWarning: Can save best model only with val_loss available, skipping.\n",
      "  'skipping.' % (self.monitor), RuntimeWarning)\n",
      "c:\\users\\varshith\\anaconda3\\envs\\tensorflow_gpuenv\\lib\\site-packages\\keras\\callbacks.py:569: RuntimeWarning: Early stopping conditioned on metric `val_acc` which is not available. Available metrics are: loss,acc\n",
      "  (self.monitor, ','.join(list(logs.keys()))), RuntimeWarning\n"
     ]
    },
    {
     "name": "stdout",
     "output_type": "stream",
     "text": [
      "Epoch 2/20\n",
      "644/643 [==============================] - 408s 633ms/step - loss: 1.3988 - acc: 0.6087\n",
      "Epoch 3/20\n",
      "644/643 [==============================] - 409s 635ms/step - loss: 1.2002 - acc: 0.6532\n",
      "Epoch 4/20\n",
      "644/643 [==============================] - 410s 637ms/step - loss: 1.0623 - acc: 0.6904\n",
      "Epoch 5/20\n",
      "644/643 [==============================] - 408s 634ms/step - loss: 0.9839 - acc: 0.7076\n",
      "Epoch 6/20\n",
      "644/643 [==============================] - 411s 639ms/step - loss: 0.9236 - acc: 0.7245\n",
      "Epoch 7/20\n",
      "644/643 [==============================] - 409s 634ms/step - loss: 0.8741 - acc: 0.7365\n",
      "Epoch 8/20\n",
      "644/643 [==============================] - 479s 743ms/step - loss: 0.8067 - acc: 0.7530\n",
      "Epoch 9/20\n",
      "644/643 [==============================] - 743s 1s/step - loss: 0.7843 - acc: 0.7614\n",
      "Epoch 10/20\n",
      "644/643 [==============================] - 411s 638ms/step - loss: 0.7436 - acc: 0.7710\n",
      "Epoch 11/20\n",
      "644/643 [==============================] - 411s 638ms/step - loss: 0.7315 - acc: 0.7739\n",
      "Epoch 12/20\n",
      "644/643 [==============================] - 415s 645ms/step - loss: 0.7050 - acc: 0.7835\n",
      "Epoch 13/20\n",
      "644/643 [==============================] - 416s 646ms/step - loss: 0.6665 - acc: 0.7921\n",
      "Epoch 14/20\n",
      "644/643 [==============================] - 414s 643ms/step - loss: 0.6439 - acc: 0.7976\n",
      "Epoch 15/20\n",
      "644/643 [==============================] - 414s 642ms/step - loss: 0.6224 - acc: 0.8072\n",
      "Epoch 16/20\n",
      "644/643 [==============================] - 416s 646ms/step - loss: 0.6052 - acc: 0.8123\n",
      "Epoch 17/20\n",
      "644/643 [==============================] - 415s 645ms/step - loss: 0.5893 - acc: 0.8141\n",
      "Epoch 18/20\n",
      "644/643 [==============================] - 413s 641ms/step - loss: 0.5871 - acc: 0.8152\n",
      "Epoch 19/20\n",
      "644/643 [==============================] - 413s 641ms/step - loss: 0.5680 - acc: 0.8204\n",
      "Epoch 20/20\n",
      "644/643 [==============================] - 414s 642ms/step - loss: 0.5434 - acc: 0.8285\n"
     ]
    }
   ],
   "source": [
    "model.compile(\n",
    "    loss='categorical_crossentropy',\n",
    "    optimizer=optimizers.Adam(1e-3),\n",
    "    metrics=['acc'])\n",
    "\n",
    "model_out = model.fit_generator(\n",
    "    train_generator,\n",
    "    steps_per_epoch=20580 /32,\n",
    "    epochs=20,\n",
    "    verbose=1,\n",
    "    callbacks=callbacks)"
   ]
  },
  {
   "cell_type": "code",
   "execution_count": 14,
   "metadata": {},
   "outputs": [],
   "source": [
    "import gc\n",
    "for i in range(10):\n",
    "    gc.collect()"
   ]
  },
  {
   "cell_type": "code",
   "execution_count": 15,
   "metadata": {},
   "outputs": [
    {
     "name": "stdout",
     "output_type": "stream",
     "text": [
      "Epoch 1/10\n",
      "644/643 [==============================] - 412s 640ms/step - loss: 0.3830 - acc: 0.8813\n",
      "Epoch 2/10\n",
      "644/643 [==============================] - 411s 638ms/step - loss: 0.3675 - acc: 0.8860\n",
      "Epoch 3/10\n",
      "644/643 [==============================] - 415s 644ms/step - loss: 0.3497 - acc: 0.8923\n",
      "Epoch 4/10\n",
      "644/643 [==============================] - 411s 638ms/step - loss: 0.3562 - acc: 0.8912\n",
      "Epoch 5/10\n",
      "644/643 [==============================] - 416s 647ms/step - loss: 0.3468 - acc: 0.8927\n",
      "Epoch 6/10\n",
      "644/643 [==============================] - 412s 640ms/step - loss: 0.3420 - acc: 0.8946\n",
      "Epoch 7/10\n",
      "644/643 [==============================] - 416s 646ms/step - loss: 0.3412 - acc: 0.8931\n",
      "Epoch 8/10\n",
      "644/643 [==============================] - 410s 637ms/step - loss: 0.3410 - acc: 0.8959\n",
      "Epoch 9/10\n",
      "644/643 [==============================] - 415s 645ms/step - loss: 0.3342 - acc: 0.9005\n",
      "Epoch 10/10\n",
      "644/643 [==============================] - 411s 639ms/step - loss: 0.3322 - acc: 0.8999\n"
     ]
    }
   ],
   "source": [
    "#model.load_weights(BEST_MODEL)\n",
    "model.compile(\n",
    "    optimizer=optimizers.Adam(lr=1e-4,),\n",
    "    loss='categorical_crossentropy',\n",
    "    metrics=['acc'])\n",
    "\n",
    "model_out = model.fit_generator(\n",
    "    train_generator,\n",
    "    steps_per_epoch=20580/32,\n",
    "    epochs=10,\n",
    "    verbose=1,\n",
    "    callbacks=callbacks)"
   ]
  },
  {
   "cell_type": "code",
   "execution_count": 16,
   "metadata": {},
   "outputs": [],
   "source": [
    "model.save('model.h5')"
   ]
  },
  {
   "cell_type": "code",
   "execution_count": 17,
   "metadata": {},
   "outputs": [],
   "source": [
    "import gc\n",
    "for i in range(10):\n",
    "    gc.collect()"
   ]
  },
  {
   "cell_type": "code",
   "execution_count": 18,
   "metadata": {},
   "outputs": [],
   "source": [
    "#model.load_weights(BEST_MODEL)\n",
    "# print(model.summary())\n",
    "# for i, layer in enumerate(model.layers):\n",
    "#     print(i, layer.name)\n",
    "# See model information for last convolution layer. Xception is 126.\n",
    "for layer in model.layers[:126]:\n",
    "    layer.trainable = False\n",
    "for layer in model.layers[126:]:\n",
    "    layer.trainable = True"
   ]
  },
  {
   "cell_type": "code",
   "execution_count": 19,
   "metadata": {},
   "outputs": [],
   "source": [
    "import gc\n",
    "for i in range(10):\n",
    "    gc.collect()"
   ]
  },
  {
   "cell_type": "code",
   "execution_count": 20,
   "metadata": {},
   "outputs": [
    {
     "name": "stdout",
     "output_type": "stream",
     "text": [
      "Epoch 1/10\n",
      "644/643 [==============================] - 1052s 2s/step - loss: 0.5517 - acc: 0.8270\n",
      "Epoch 2/10\n",
      "644/643 [==============================] - 982s 2s/step - loss: 0.3690 - acc: 0.8806\n",
      "Epoch 3/10\n",
      "644/643 [==============================] - 949s 1s/step - loss: 0.2850 - acc: 0.9100\n",
      "Epoch 4/10\n",
      "644/643 [==============================] - 955s 1s/step - loss: 0.2501 - acc: 0.9200\n",
      "Epoch 5/10\n",
      "644/643 [==============================] - 973s 2s/step - loss: 0.2132 - acc: 0.9337\n",
      "Epoch 6/10\n",
      "644/643 [==============================] - 1018s 2s/step - loss: 0.1834 - acc: 0.9435\n",
      "Epoch 7/10\n",
      "644/643 [==============================] - 1028s 2s/step - loss: 0.1692 - acc: 0.9483\n",
      "Epoch 8/10\n",
      "644/643 [==============================] - 991s 2s/step - loss: 0.1574 - acc: 0.9518\n",
      "Epoch 9/10\n",
      "644/643 [==============================] - 1011s 2s/step - loss: 0.1397 - acc: 0.9580\n",
      "Epoch 10/10\n",
      "644/643 [==============================] - 917s 1s/step - loss: 0.1360 - acc: 0.9593\n"
     ]
    }
   ],
   "source": [
    "model.compile(\n",
    "    optimizer=optimizers.Adam(lr=1e-4,),\n",
    "    loss='categorical_crossentropy',\n",
    "    metrics=['acc'])\n",
    "\n",
    "model_out = model.fit_generator(\n",
    "    train_generator,\n",
    "    steps_per_epoch=20580/32,\n",
    "    epochs=10,\n",
    "    verbose=1,\n",
    "    callbacks=callbacks)"
   ]
  },
  {
   "cell_type": "code",
   "execution_count": 21,
   "metadata": {},
   "outputs": [],
   "source": [
    "model.save('model2.h5')"
   ]
  },
  {
   "cell_type": "code",
   "execution_count": 2,
   "metadata": {},
   "outputs": [],
   "source": [
    "import gc\n",
    "for i in range(10):\n",
    "    gc.collect()"
   ]
  },
  {
   "cell_type": "code",
   "execution_count": 3,
   "metadata": {},
   "outputs": [
    {
     "name": "stderr",
     "output_type": "stream",
     "text": [
      "Using TensorFlow backend.\n"
     ]
    }
   ],
   "source": [
    "from keras.preprocessing import image\n",
    "import numpy as np\n",
    "\n",
    "def load_test_image(fpath):\n",
    "    img = image.load_img(fpath, target_size=(IMG_WIDTH, IMG_HEIGHT))\n",
    "    x = image.img_to_array(img)\n",
    "    return x"
   ]
  },
  {
   "cell_type": "code",
   "execution_count": 4,
   "metadata": {},
   "outputs": [],
   "source": [
    "test_labels = np.loadtxt('sample_submission.csv', delimiter=',', dtype=str, skiprows=1)\n",
    "test_images = []\n",
    "test_names = test_labels[:,0]"
   ]
  },
  {
   "cell_type": "code",
   "execution_count": 5,
   "metadata": {},
   "outputs": [],
   "source": [
    "import gc\n",
    "for i in range(3):\n",
    "    gc.collect()"
   ]
  },
  {
   "cell_type": "code",
   "execution_count": 9,
   "metadata": {},
   "outputs": [],
   "source": [
    "import os\n",
    "for test_name in test_names:\n",
    "    fname = '{}.jpg'.format(test_name)\n",
    "    data = load_test_image(os.path.join('test/', fname))\n",
    "    test_images.append(data)"
   ]
  },
  {
   "cell_type": "code",
   "execution_count": null,
   "metadata": {},
   "outputs": [],
   "source": [
    "import gc\n",
    "for i in range(10):\n",
    "    gc.collect()"
   ]
  },
  {
   "cell_type": "code",
   "execution_count": 45,
   "metadata": {},
   "outputs": [],
   "source": [
    "# from tqdm import tqdm\n",
    "# for i in range(len(test_images)):\n",
    "#     test_images[i] = np.asarray(test_images[i])"
   ]
  },
  {
   "cell_type": "code",
   "execution_count": 70,
   "metadata": {},
   "outputs": [],
   "source": [
    "sample1 = test_images[:5000]"
   ]
  },
  {
   "cell_type": "code",
   "execution_count": 71,
   "metadata": {},
   "outputs": [],
   "source": [
    "sample1 = np.asarray(sample1)"
   ]
  },
  {
   "cell_type": "code",
   "execution_count": 1,
   "metadata": {},
   "outputs": [
    {
     "ename": "NameError",
     "evalue": "name 'test_images' is not defined",
     "output_type": "error",
     "traceback": [
      "\u001b[1;31m---------------------------------------------------------------------------\u001b[0m",
      "\u001b[1;31mNameError\u001b[0m                                 Traceback (most recent call last)",
      "\u001b[1;32m<ipython-input-1-35c8b3111e53>\u001b[0m in \u001b[0;36m<module>\u001b[1;34m\u001b[0m\n\u001b[1;32m----> 1\u001b[1;33m \u001b[0msample2\u001b[0m \u001b[1;33m=\u001b[0m \u001b[0mtest_images\u001b[0m\u001b[1;33m[\u001b[0m\u001b[1;36m5000\u001b[0m\u001b[1;33m:\u001b[0m\u001b[1;36m7000\u001b[0m\u001b[1;33m]\u001b[0m\u001b[1;33m\u001b[0m\u001b[1;33m\u001b[0m\u001b[0m\n\u001b[0m",
      "\u001b[1;31mNameError\u001b[0m: name 'test_images' is not defined"
     ]
    }
   ],
   "source": [
    "sample2 = test_images[5000:7000]"
   ]
  },
  {
   "cell_type": "code",
   "execution_count": null,
   "metadata": {},
   "outputs": [],
   "source": [
    "# sample2 = np.asarray(sample2)"
   ]
  },
  {
   "cell_type": "code",
   "execution_count": null,
   "metadata": {},
   "outputs": [],
   "source": [
    "# sample3 = test_images[7000:9000]"
   ]
  },
  {
   "cell_type": "code",
   "execution_count": null,
   "metadata": {},
   "outputs": [],
   "source": [
    "# sample3 = np.asarray(sample3)"
   ]
  },
  {
   "cell_type": "code",
   "execution_count": null,
   "metadata": {},
   "outputs": [],
   "source": [
    "# sample4 = test_images[9000:]\n",
    "# sample4 = np.asarray(sample4)"
   ]
  },
  {
   "cell_type": "code",
   "execution_count": null,
   "metadata": {},
   "outputs": [],
   "source": [
    "# sample = np.concatenate((sample1, sample2, sample3,sample4), axis=0)"
   ]
  },
  {
   "cell_type": "code",
   "execution_count": 11,
   "metadata": {},
   "outputs": [
    {
     "name": "stdout",
     "output_type": "stream",
     "text": [
      "(10357, 299, 299, 3)\n"
     ]
    }
   ],
   "source": [
    "test_images = np.asarray(test_images)\n",
    "test_images = test_images.astype('float32')\n",
    "test_images /= 255\n",
    "print(test_images.shape)"
   ]
  },
  {
   "cell_type": "code",
   "execution_count": 34,
   "metadata": {},
   "outputs": [
    {
     "name": "stderr",
     "output_type": "stream",
     "text": [
      "c:\\users\\varshith\\anaconda3\\envs\\tensorflow_gpuenv\\lib\\site-packages\\keras\\engine\\saving.py:327: UserWarning: Error in loading the saved optimizer state. As a result, your model is starting with a freshly initialized optimizer.\n",
      "  warnings.warn('Error in loading the saved optimizer '\n"
     ]
    }
   ],
   "source": [
    "from keras.models import load_model\n",
    "model = load_model('keras.model.best.h5')"
   ]
  },
  {
   "cell_type": "code",
   "execution_count": 35,
   "metadata": {},
   "outputs": [
    {
     "name": "stdout",
     "output_type": "stream",
     "text": [
      "10357/10357 [==============================] - 924s 89ms/step\n"
     ]
    }
   ],
   "source": [
    "predictions = model.predict(test_images, verbose=1)\n"
   ]
  },
  {
   "cell_type": "code",
   "execution_count": 36,
   "metadata": {},
   "outputs": [
    {
     "data": {
      "text/plain": [
       "array([[3.5224671e-06, 6.8700438e-06, 3.2194396e-06, ..., 2.7459964e-06,\n",
       "        1.5228462e-05, 4.2610150e-06],\n",
       "       [1.5749101e-05, 1.0604356e-05, 7.0757628e-06, ..., 4.6747782e-06,\n",
       "        1.1199888e-05, 2.7494762e-06],\n",
       "       [9.2150758e-06, 2.0320600e-05, 5.1662148e-05, ..., 2.4008752e-05,\n",
       "        1.7736387e-05, 1.1798283e-05],\n",
       "       ...,\n",
       "       [3.0064952e-05, 2.2755114e-05, 4.4923645e-04, ..., 2.8604798e-05,\n",
       "        6.8865906e-05, 1.1390819e-05],\n",
       "       [1.5763287e-04, 1.8952878e-05, 4.5077004e-06, ..., 3.6349641e-06,\n",
       "        2.4929441e-05, 2.1077642e-04],\n",
       "       [1.7854078e-04, 7.7142089e-04, 2.4581875e-04, ..., 1.5779394e-03,\n",
       "        2.5095296e-04, 1.6386441e-05]], dtype=float32)"
      ]
     },
     "execution_count": 36,
     "metadata": {},
     "output_type": "execute_result"
    }
   ],
   "source": [
    "predictions"
   ]
  },
  {
   "cell_type": "code",
   "execution_count": 37,
   "metadata": {},
   "outputs": [],
   "source": [
    " test_labels = pd.read_csv('sample_submission.csv')"
   ]
  },
  {
   "cell_type": "code",
   "execution_count": 39,
   "metadata": {},
   "outputs": [],
   "source": [
    "submission = pd.DataFrame(predictions)"
   ]
  },
  {
   "cell_type": "code",
   "execution_count": 42,
   "metadata": {},
   "outputs": [],
   "source": [
    "list = test_labels.columns"
   ]
  },
  {
   "cell_type": "code",
   "execution_count": 43,
   "metadata": {},
   "outputs": [],
   "source": [
    "list2 = list[1:]"
   ]
  },
  {
   "cell_type": "code",
   "execution_count": 45,
   "metadata": {},
   "outputs": [],
   "source": [
    "submission.columns = list2"
   ]
  },
  {
   "cell_type": "code",
   "execution_count": 46,
   "metadata": {},
   "outputs": [],
   "source": [
    "submission.insert(0, 'id', test_labels['id'])"
   ]
  },
  {
   "cell_type": "code",
   "execution_count": 47,
   "metadata": {},
   "outputs": [],
   "source": [
    "submission.to_csv('keras_best_model.csv', index = False)"
   ]
  },
  {
   "cell_type": "code",
   "execution_count": null,
   "metadata": {},
   "outputs": [],
   "source": []
  },
  {
   "cell_type": "code",
   "execution_count": 16,
   "metadata": {},
   "outputs": [
    {
     "name": "stdout",
     "output_type": "stream",
     "text": [
      "   n02085620-Chihuahua  n02085782-Japanese_spaniel  n02085936-Maltese_dog  \\\n",
      "0             0.000165                    0.000162               0.213990   \n",
      "1             0.000100                    0.000136               0.183092   \n",
      "2             0.000138                    0.000146               0.239388   \n",
      "3             0.000076                    0.000099               0.222647   \n",
      "4             0.000126                    0.000126               0.208422   \n",
      "\n",
      "   n02086079-Pekinese  n02086240-Shih-Tzu  n02086646-Blenheim_spaniel  \\\n",
      "0            0.006573            0.000185                    0.000035   \n",
      "1            0.007152            0.000179                    0.000033   \n",
      "2            0.006816            0.000227                    0.000036   \n",
      "3            0.005806            0.000187                    0.000032   \n",
      "4            0.006810            0.000173                    0.000030   \n",
      "\n",
      "   n02086910-papillon  n02087046-toy_terrier  n02087394-Rhodesian_ridgeback  \\\n",
      "0            0.001437               0.005213                       0.005026   \n",
      "1            0.001461               0.007238                       0.006315   \n",
      "2            0.001673               0.005235                       0.005385   \n",
      "3            0.002148               0.006112                       0.004803   \n",
      "4            0.001651               0.005600                       0.005007   \n",
      "\n",
      "   n02088094-Afghan_hound                ...                 \\\n",
      "0            2.665518e-07                ...                  \n",
      "1            1.913011e-07                ...                  \n",
      "2            2.957188e-07                ...                  \n",
      "3            2.290649e-07                ...                  \n",
      "4            2.301827e-07                ...                  \n",
      "\n",
      "   n02113023-Pembroke  n02113186-Cardigan  n02113624-toy_poodle  \\\n",
      "0            0.000017            0.005426              0.000303   \n",
      "1            0.000012            0.003068              0.000204   \n",
      "2            0.000015            0.004984              0.000323   \n",
      "3            0.000014            0.003130              0.000285   \n",
      "4            0.000015            0.004605              0.000287   \n",
      "\n",
      "   n02113712-miniature_poodle  n02113799-standard_poodle  \\\n",
      "0                    0.000517                   0.000503   \n",
      "1                    0.000322                   0.000487   \n",
      "2                    0.000438                   0.000445   \n",
      "3                    0.000289                   0.000462   \n",
      "4                    0.000376                   0.000456   \n",
      "\n",
      "   n02113978-Mexican_hairless  n02115641-dingo  n02115913-dhole  \\\n",
      "0                    0.000052         0.000348         0.026957   \n",
      "1                    0.000031         0.000327         0.028660   \n",
      "2                    0.000046         0.000391         0.022662   \n",
      "3                    0.000028         0.000372         0.019302   \n",
      "4                    0.000040         0.000356         0.027955   \n",
      "\n",
      "   n02116738-African_hunting_dog                                id  \n",
      "0                       0.033166  000621fb3cbb32d8935728e48679680e  \n",
      "1                       0.060261  00102ee9d8eb90812350685311fe5890  \n",
      "2                       0.037868  0012a730dfa437f5f3613fb75efcd4ce  \n",
      "3                       0.050170  001510bc8570bbeee98c8d80c8a95ec1  \n",
      "4                       0.039821  001a5f3114548acdefa3d4da05474c2e  \n",
      "\n",
      "[5 rows x 121 columns]\n"
     ]
    }
   ],
   "source": [
    "import pandas as pd\n",
    "class_indices = sorted([ [k,v] for k, v in train_generator.class_indices.items() ], key=lambda c : c[1])\n",
    "columns = [b[0] for b in class_indices]\n",
    "df = pd.DataFrame(predictions,columns=columns)\n",
    "df = df.assign(id = test_names)\n",
    "df.to_csv(\"submit.csv\", index=False) #,float_format='%.4f')\n",
    "print(df.head())"
   ]
  },
  {
   "cell_type": "code",
   "execution_count": 17,
   "metadata": {},
   "outputs": [],
   "source": [
    "sub = pd.read_csv('submit.csv')"
   ]
  },
  {
   "cell_type": "code",
   "execution_count": 18,
   "metadata": {},
   "outputs": [],
   "source": [
    "# list  = sub.columns"
   ]
  },
  {
   "cell_type": "code",
   "execution_count": 19,
   "metadata": {},
   "outputs": [],
   "source": [
    "#print(list[110:120])"
   ]
  },
  {
   "cell_type": "code",
   "execution_count": 20,
   "metadata": {},
   "outputs": [],
   "source": [
    "#columns[20:40]"
   ]
  },
  {
   "cell_type": "code",
   "execution_count": 21,
   "metadata": {},
   "outputs": [],
   "source": []
  },
  {
   "cell_type": "code",
   "execution_count": 22,
   "metadata": {},
   "outputs": [],
   "source": [
    "cols2  = [x.lower() for x in cols]"
   ]
  },
  {
   "cell_type": "code",
   "execution_count": 23,
   "metadata": {},
   "outputs": [],
   "source": [
    "sub.columns = cols2"
   ]
  },
  {
   "cell_type": "code",
   "execution_count": 24,
   "metadata": {},
   "outputs": [
    {
     "data": {
      "text/html": [
       "<div>\n",
       "<style scoped>\n",
       "    .dataframe tbody tr th:only-of-type {\n",
       "        vertical-align: middle;\n",
       "    }\n",
       "\n",
       "    .dataframe tbody tr th {\n",
       "        vertical-align: top;\n",
       "    }\n",
       "\n",
       "    .dataframe thead th {\n",
       "        text-align: right;\n",
       "    }\n",
       "</style>\n",
       "<table border=\"1\" class=\"dataframe\">\n",
       "  <thead>\n",
       "    <tr style=\"text-align: right;\">\n",
       "      <th></th>\n",
       "      <th>chihuahua</th>\n",
       "      <th>japanese_spaniel</th>\n",
       "      <th>maltese_dog</th>\n",
       "      <th>pekinese</th>\n",
       "      <th>shih-tzu</th>\n",
       "      <th>blenheim_spaniel</th>\n",
       "      <th>papillon</th>\n",
       "      <th>toy_terrier</th>\n",
       "      <th>rhodesian_ridgeback</th>\n",
       "      <th>afghan_hound</th>\n",
       "      <th>...</th>\n",
       "      <th>pembroke</th>\n",
       "      <th>cardigan</th>\n",
       "      <th>toy_poodle</th>\n",
       "      <th>miniature_poodle</th>\n",
       "      <th>standard_poodle</th>\n",
       "      <th>mexican_hairless</th>\n",
       "      <th>dingo</th>\n",
       "      <th>dhole</th>\n",
       "      <th>african_hunting_dog</th>\n",
       "      <th>id</th>\n",
       "    </tr>\n",
       "  </thead>\n",
       "  <tbody>\n",
       "    <tr>\n",
       "      <th>0</th>\n",
       "      <td>0.000165</td>\n",
       "      <td>0.000162</td>\n",
       "      <td>0.213990</td>\n",
       "      <td>0.006573</td>\n",
       "      <td>0.000185</td>\n",
       "      <td>0.000035</td>\n",
       "      <td>0.001437</td>\n",
       "      <td>0.005213</td>\n",
       "      <td>0.005026</td>\n",
       "      <td>2.665518e-07</td>\n",
       "      <td>...</td>\n",
       "      <td>0.000017</td>\n",
       "      <td>0.005426</td>\n",
       "      <td>0.000303</td>\n",
       "      <td>0.000517</td>\n",
       "      <td>0.000503</td>\n",
       "      <td>0.000052</td>\n",
       "      <td>0.000348</td>\n",
       "      <td>0.026957</td>\n",
       "      <td>0.033166</td>\n",
       "      <td>000621fb3cbb32d8935728e48679680e</td>\n",
       "    </tr>\n",
       "    <tr>\n",
       "      <th>1</th>\n",
       "      <td>0.000100</td>\n",
       "      <td>0.000136</td>\n",
       "      <td>0.183092</td>\n",
       "      <td>0.007152</td>\n",
       "      <td>0.000179</td>\n",
       "      <td>0.000033</td>\n",
       "      <td>0.001461</td>\n",
       "      <td>0.007238</td>\n",
       "      <td>0.006315</td>\n",
       "      <td>1.913011e-07</td>\n",
       "      <td>...</td>\n",
       "      <td>0.000012</td>\n",
       "      <td>0.003068</td>\n",
       "      <td>0.000204</td>\n",
       "      <td>0.000322</td>\n",
       "      <td>0.000487</td>\n",
       "      <td>0.000031</td>\n",
       "      <td>0.000327</td>\n",
       "      <td>0.028660</td>\n",
       "      <td>0.060261</td>\n",
       "      <td>00102ee9d8eb90812350685311fe5890</td>\n",
       "    </tr>\n",
       "    <tr>\n",
       "      <th>2</th>\n",
       "      <td>0.000138</td>\n",
       "      <td>0.000146</td>\n",
       "      <td>0.239388</td>\n",
       "      <td>0.006816</td>\n",
       "      <td>0.000227</td>\n",
       "      <td>0.000036</td>\n",
       "      <td>0.001673</td>\n",
       "      <td>0.005235</td>\n",
       "      <td>0.005385</td>\n",
       "      <td>2.957188e-07</td>\n",
       "      <td>...</td>\n",
       "      <td>0.000015</td>\n",
       "      <td>0.004984</td>\n",
       "      <td>0.000323</td>\n",
       "      <td>0.000438</td>\n",
       "      <td>0.000445</td>\n",
       "      <td>0.000046</td>\n",
       "      <td>0.000391</td>\n",
       "      <td>0.022662</td>\n",
       "      <td>0.037868</td>\n",
       "      <td>0012a730dfa437f5f3613fb75efcd4ce</td>\n",
       "    </tr>\n",
       "    <tr>\n",
       "      <th>3</th>\n",
       "      <td>0.000076</td>\n",
       "      <td>0.000099</td>\n",
       "      <td>0.222647</td>\n",
       "      <td>0.005806</td>\n",
       "      <td>0.000187</td>\n",
       "      <td>0.000032</td>\n",
       "      <td>0.002148</td>\n",
       "      <td>0.006112</td>\n",
       "      <td>0.004803</td>\n",
       "      <td>2.290649e-07</td>\n",
       "      <td>...</td>\n",
       "      <td>0.000014</td>\n",
       "      <td>0.003130</td>\n",
       "      <td>0.000285</td>\n",
       "      <td>0.000289</td>\n",
       "      <td>0.000462</td>\n",
       "      <td>0.000028</td>\n",
       "      <td>0.000372</td>\n",
       "      <td>0.019302</td>\n",
       "      <td>0.050170</td>\n",
       "      <td>001510bc8570bbeee98c8d80c8a95ec1</td>\n",
       "    </tr>\n",
       "    <tr>\n",
       "      <th>4</th>\n",
       "      <td>0.000126</td>\n",
       "      <td>0.000126</td>\n",
       "      <td>0.208422</td>\n",
       "      <td>0.006810</td>\n",
       "      <td>0.000173</td>\n",
       "      <td>0.000030</td>\n",
       "      <td>0.001651</td>\n",
       "      <td>0.005600</td>\n",
       "      <td>0.005007</td>\n",
       "      <td>2.301827e-07</td>\n",
       "      <td>...</td>\n",
       "      <td>0.000015</td>\n",
       "      <td>0.004605</td>\n",
       "      <td>0.000287</td>\n",
       "      <td>0.000376</td>\n",
       "      <td>0.000456</td>\n",
       "      <td>0.000040</td>\n",
       "      <td>0.000356</td>\n",
       "      <td>0.027955</td>\n",
       "      <td>0.039821</td>\n",
       "      <td>001a5f3114548acdefa3d4da05474c2e</td>\n",
       "    </tr>\n",
       "  </tbody>\n",
       "</table>\n",
       "<p>5 rows × 121 columns</p>\n",
       "</div>"
      ],
      "text/plain": [
       "   chihuahua  japanese_spaniel  maltese_dog  pekinese  shih-tzu  \\\n",
       "0   0.000165          0.000162     0.213990  0.006573  0.000185   \n",
       "1   0.000100          0.000136     0.183092  0.007152  0.000179   \n",
       "2   0.000138          0.000146     0.239388  0.006816  0.000227   \n",
       "3   0.000076          0.000099     0.222647  0.005806  0.000187   \n",
       "4   0.000126          0.000126     0.208422  0.006810  0.000173   \n",
       "\n",
       "   blenheim_spaniel  papillon  toy_terrier  rhodesian_ridgeback  afghan_hound  \\\n",
       "0          0.000035  0.001437     0.005213             0.005026  2.665518e-07   \n",
       "1          0.000033  0.001461     0.007238             0.006315  1.913011e-07   \n",
       "2          0.000036  0.001673     0.005235             0.005385  2.957188e-07   \n",
       "3          0.000032  0.002148     0.006112             0.004803  2.290649e-07   \n",
       "4          0.000030  0.001651     0.005600             0.005007  2.301827e-07   \n",
       "\n",
       "                 ...                 pembroke  cardigan  toy_poodle  \\\n",
       "0                ...                 0.000017  0.005426    0.000303   \n",
       "1                ...                 0.000012  0.003068    0.000204   \n",
       "2                ...                 0.000015  0.004984    0.000323   \n",
       "3                ...                 0.000014  0.003130    0.000285   \n",
       "4                ...                 0.000015  0.004605    0.000287   \n",
       "\n",
       "   miniature_poodle  standard_poodle  mexican_hairless     dingo     dhole  \\\n",
       "0          0.000517         0.000503          0.000052  0.000348  0.026957   \n",
       "1          0.000322         0.000487          0.000031  0.000327  0.028660   \n",
       "2          0.000438         0.000445          0.000046  0.000391  0.022662   \n",
       "3          0.000289         0.000462          0.000028  0.000372  0.019302   \n",
       "4          0.000376         0.000456          0.000040  0.000356  0.027955   \n",
       "\n",
       "   african_hunting_dog                                id  \n",
       "0             0.033166  000621fb3cbb32d8935728e48679680e  \n",
       "1             0.060261  00102ee9d8eb90812350685311fe5890  \n",
       "2             0.037868  0012a730dfa437f5f3613fb75efcd4ce  \n",
       "3             0.050170  001510bc8570bbeee98c8d80c8a95ec1  \n",
       "4             0.039821  001a5f3114548acdefa3d4da05474c2e  \n",
       "\n",
       "[5 rows x 121 columns]"
      ]
     },
     "execution_count": 24,
     "metadata": {},
     "output_type": "execute_result"
    }
   ],
   "source": [
    "sub.head()"
   ]
  },
  {
   "cell_type": "code",
   "execution_count": 25,
   "metadata": {},
   "outputs": [],
   "source": [
    "df = pd.read_csv('sample_submission.csv')"
   ]
  },
  {
   "cell_type": "code",
   "execution_count": 26,
   "metadata": {},
   "outputs": [],
   "source": [
    "columns = df.columns"
   ]
  },
  {
   "cell_type": "code",
   "execution_count": 27,
   "metadata": {},
   "outputs": [
    {
     "data": {
      "text/html": [
       "<div>\n",
       "<style scoped>\n",
       "    .dataframe tbody tr th:only-of-type {\n",
       "        vertical-align: middle;\n",
       "    }\n",
       "\n",
       "    .dataframe tbody tr th {\n",
       "        vertical-align: top;\n",
       "    }\n",
       "\n",
       "    .dataframe thead th {\n",
       "        text-align: right;\n",
       "    }\n",
       "</style>\n",
       "<table border=\"1\" class=\"dataframe\">\n",
       "  <thead>\n",
       "    <tr style=\"text-align: right;\">\n",
       "      <th></th>\n",
       "      <th>chihuahua</th>\n",
       "      <th>japanese_spaniel</th>\n",
       "      <th>maltese_dog</th>\n",
       "      <th>pekinese</th>\n",
       "      <th>shih-tzu</th>\n",
       "      <th>blenheim_spaniel</th>\n",
       "      <th>papillon</th>\n",
       "      <th>toy_terrier</th>\n",
       "      <th>rhodesian_ridgeback</th>\n",
       "      <th>afghan_hound</th>\n",
       "      <th>...</th>\n",
       "      <th>pembroke</th>\n",
       "      <th>cardigan</th>\n",
       "      <th>toy_poodle</th>\n",
       "      <th>miniature_poodle</th>\n",
       "      <th>standard_poodle</th>\n",
       "      <th>mexican_hairless</th>\n",
       "      <th>dingo</th>\n",
       "      <th>dhole</th>\n",
       "      <th>african_hunting_dog</th>\n",
       "      <th>id</th>\n",
       "    </tr>\n",
       "  </thead>\n",
       "  <tbody>\n",
       "    <tr>\n",
       "      <th>0</th>\n",
       "      <td>0.000165</td>\n",
       "      <td>0.000162</td>\n",
       "      <td>0.213990</td>\n",
       "      <td>0.006573</td>\n",
       "      <td>0.000185</td>\n",
       "      <td>0.000035</td>\n",
       "      <td>0.001437</td>\n",
       "      <td>0.005213</td>\n",
       "      <td>0.005026</td>\n",
       "      <td>2.665518e-07</td>\n",
       "      <td>...</td>\n",
       "      <td>0.000017</td>\n",
       "      <td>0.005426</td>\n",
       "      <td>0.000303</td>\n",
       "      <td>0.000517</td>\n",
       "      <td>0.000503</td>\n",
       "      <td>0.000052</td>\n",
       "      <td>0.000348</td>\n",
       "      <td>0.026957</td>\n",
       "      <td>0.033166</td>\n",
       "      <td>000621fb3cbb32d8935728e48679680e</td>\n",
       "    </tr>\n",
       "    <tr>\n",
       "      <th>1</th>\n",
       "      <td>0.000100</td>\n",
       "      <td>0.000136</td>\n",
       "      <td>0.183092</td>\n",
       "      <td>0.007152</td>\n",
       "      <td>0.000179</td>\n",
       "      <td>0.000033</td>\n",
       "      <td>0.001461</td>\n",
       "      <td>0.007238</td>\n",
       "      <td>0.006315</td>\n",
       "      <td>1.913011e-07</td>\n",
       "      <td>...</td>\n",
       "      <td>0.000012</td>\n",
       "      <td>0.003068</td>\n",
       "      <td>0.000204</td>\n",
       "      <td>0.000322</td>\n",
       "      <td>0.000487</td>\n",
       "      <td>0.000031</td>\n",
       "      <td>0.000327</td>\n",
       "      <td>0.028660</td>\n",
       "      <td>0.060261</td>\n",
       "      <td>00102ee9d8eb90812350685311fe5890</td>\n",
       "    </tr>\n",
       "    <tr>\n",
       "      <th>2</th>\n",
       "      <td>0.000138</td>\n",
       "      <td>0.000146</td>\n",
       "      <td>0.239388</td>\n",
       "      <td>0.006816</td>\n",
       "      <td>0.000227</td>\n",
       "      <td>0.000036</td>\n",
       "      <td>0.001673</td>\n",
       "      <td>0.005235</td>\n",
       "      <td>0.005385</td>\n",
       "      <td>2.957188e-07</td>\n",
       "      <td>...</td>\n",
       "      <td>0.000015</td>\n",
       "      <td>0.004984</td>\n",
       "      <td>0.000323</td>\n",
       "      <td>0.000438</td>\n",
       "      <td>0.000445</td>\n",
       "      <td>0.000046</td>\n",
       "      <td>0.000391</td>\n",
       "      <td>0.022662</td>\n",
       "      <td>0.037868</td>\n",
       "      <td>0012a730dfa437f5f3613fb75efcd4ce</td>\n",
       "    </tr>\n",
       "    <tr>\n",
       "      <th>3</th>\n",
       "      <td>0.000076</td>\n",
       "      <td>0.000099</td>\n",
       "      <td>0.222647</td>\n",
       "      <td>0.005806</td>\n",
       "      <td>0.000187</td>\n",
       "      <td>0.000032</td>\n",
       "      <td>0.002148</td>\n",
       "      <td>0.006112</td>\n",
       "      <td>0.004803</td>\n",
       "      <td>2.290649e-07</td>\n",
       "      <td>...</td>\n",
       "      <td>0.000014</td>\n",
       "      <td>0.003130</td>\n",
       "      <td>0.000285</td>\n",
       "      <td>0.000289</td>\n",
       "      <td>0.000462</td>\n",
       "      <td>0.000028</td>\n",
       "      <td>0.000372</td>\n",
       "      <td>0.019302</td>\n",
       "      <td>0.050170</td>\n",
       "      <td>001510bc8570bbeee98c8d80c8a95ec1</td>\n",
       "    </tr>\n",
       "    <tr>\n",
       "      <th>4</th>\n",
       "      <td>0.000126</td>\n",
       "      <td>0.000126</td>\n",
       "      <td>0.208422</td>\n",
       "      <td>0.006810</td>\n",
       "      <td>0.000173</td>\n",
       "      <td>0.000030</td>\n",
       "      <td>0.001651</td>\n",
       "      <td>0.005600</td>\n",
       "      <td>0.005007</td>\n",
       "      <td>2.301827e-07</td>\n",
       "      <td>...</td>\n",
       "      <td>0.000015</td>\n",
       "      <td>0.004605</td>\n",
       "      <td>0.000287</td>\n",
       "      <td>0.000376</td>\n",
       "      <td>0.000456</td>\n",
       "      <td>0.000040</td>\n",
       "      <td>0.000356</td>\n",
       "      <td>0.027955</td>\n",
       "      <td>0.039821</td>\n",
       "      <td>001a5f3114548acdefa3d4da05474c2e</td>\n",
       "    </tr>\n",
       "  </tbody>\n",
       "</table>\n",
       "<p>5 rows × 121 columns</p>\n",
       "</div>"
      ],
      "text/plain": [
       "   chihuahua  japanese_spaniel  maltese_dog  pekinese  shih-tzu  \\\n",
       "0   0.000165          0.000162     0.213990  0.006573  0.000185   \n",
       "1   0.000100          0.000136     0.183092  0.007152  0.000179   \n",
       "2   0.000138          0.000146     0.239388  0.006816  0.000227   \n",
       "3   0.000076          0.000099     0.222647  0.005806  0.000187   \n",
       "4   0.000126          0.000126     0.208422  0.006810  0.000173   \n",
       "\n",
       "   blenheim_spaniel  papillon  toy_terrier  rhodesian_ridgeback  afghan_hound  \\\n",
       "0          0.000035  0.001437     0.005213             0.005026  2.665518e-07   \n",
       "1          0.000033  0.001461     0.007238             0.006315  1.913011e-07   \n",
       "2          0.000036  0.001673     0.005235             0.005385  2.957188e-07   \n",
       "3          0.000032  0.002148     0.006112             0.004803  2.290649e-07   \n",
       "4          0.000030  0.001651     0.005600             0.005007  2.301827e-07   \n",
       "\n",
       "                 ...                 pembroke  cardigan  toy_poodle  \\\n",
       "0                ...                 0.000017  0.005426    0.000303   \n",
       "1                ...                 0.000012  0.003068    0.000204   \n",
       "2                ...                 0.000015  0.004984    0.000323   \n",
       "3                ...                 0.000014  0.003130    0.000285   \n",
       "4                ...                 0.000015  0.004605    0.000287   \n",
       "\n",
       "   miniature_poodle  standard_poodle  mexican_hairless     dingo     dhole  \\\n",
       "0          0.000517         0.000503          0.000052  0.000348  0.026957   \n",
       "1          0.000322         0.000487          0.000031  0.000327  0.028660   \n",
       "2          0.000438         0.000445          0.000046  0.000391  0.022662   \n",
       "3          0.000289         0.000462          0.000028  0.000372  0.019302   \n",
       "4          0.000376         0.000456          0.000040  0.000356  0.027955   \n",
       "\n",
       "   african_hunting_dog                                id  \n",
       "0             0.033166  000621fb3cbb32d8935728e48679680e  \n",
       "1             0.060261  00102ee9d8eb90812350685311fe5890  \n",
       "2             0.037868  0012a730dfa437f5f3613fb75efcd4ce  \n",
       "3             0.050170  001510bc8570bbeee98c8d80c8a95ec1  \n",
       "4             0.039821  001a5f3114548acdefa3d4da05474c2e  \n",
       "\n",
       "[5 rows x 121 columns]"
      ]
     },
     "execution_count": 27,
     "metadata": {},
     "output_type": "execute_result"
    }
   ],
   "source": [
    "sub.head()"
   ]
  },
  {
   "cell_type": "code",
   "execution_count": 28,
   "metadata": {},
   "outputs": [
    {
     "name": "stderr",
     "output_type": "stream",
     "text": [
      "c:\\users\\varshith\\anaconda3\\envs\\tensorflow_gpuenv\\lib\\site-packages\\ipykernel_launcher.py:1: FutureWarning: '.reindex_axis' is deprecated and will be removed in a future version. Use '.reindex' instead.\n",
      "  \"\"\"Entry point for launching an IPython kernel.\n"
     ]
    }
   ],
   "source": [
    "sub = sub.reindex_axis(columns, axis=1)"
   ]
  },
  {
   "cell_type": "code",
   "execution_count": 29,
   "metadata": {},
   "outputs": [],
   "source": [
    "#sub.to_csv('please_god_save_me.csv', index = False)"
   ]
  },
  {
   "cell_type": "code",
   "execution_count": 30,
   "metadata": {},
   "outputs": [
    {
     "data": {
      "text/plain": [
       "121"
      ]
     },
     "execution_count": 30,
     "metadata": {},
     "output_type": "execute_result"
    }
   ],
   "source": [
    "len(set(cols2) & set(columns))"
   ]
  },
  {
   "cell_type": "code",
   "execution_count": 1,
   "metadata": {},
   "outputs": [],
   "source": [
    "#print(cols2)"
   ]
  },
  {
   "cell_type": "code",
   "execution_count": 32,
   "metadata": {},
   "outputs": [
    {
     "data": {
      "text/html": [
       "<div>\n",
       "<style scoped>\n",
       "    .dataframe tbody tr th:only-of-type {\n",
       "        vertical-align: middle;\n",
       "    }\n",
       "\n",
       "    .dataframe tbody tr th {\n",
       "        vertical-align: top;\n",
       "    }\n",
       "\n",
       "    .dataframe thead th {\n",
       "        text-align: right;\n",
       "    }\n",
       "</style>\n",
       "<table border=\"1\" class=\"dataframe\">\n",
       "  <thead>\n",
       "    <tr style=\"text-align: right;\">\n",
       "      <th></th>\n",
       "      <th>id</th>\n",
       "      <th>affenpinscher</th>\n",
       "      <th>afghan_hound</th>\n",
       "      <th>african_hunting_dog</th>\n",
       "      <th>airedale</th>\n",
       "      <th>american_staffordshire_terrier</th>\n",
       "      <th>appenzeller</th>\n",
       "      <th>australian_terrier</th>\n",
       "      <th>basenji</th>\n",
       "      <th>basset</th>\n",
       "      <th>...</th>\n",
       "      <th>toy_poodle</th>\n",
       "      <th>toy_terrier</th>\n",
       "      <th>vizsla</th>\n",
       "      <th>walker_hound</th>\n",
       "      <th>weimaraner</th>\n",
       "      <th>welsh_springer_spaniel</th>\n",
       "      <th>west_highland_white_terrier</th>\n",
       "      <th>whippet</th>\n",
       "      <th>wire-haired_fox_terrier</th>\n",
       "      <th>yorkshire_terrier</th>\n",
       "    </tr>\n",
       "  </thead>\n",
       "  <tbody>\n",
       "    <tr>\n",
       "      <th>0</th>\n",
       "      <td>000621fb3cbb32d8935728e48679680e</td>\n",
       "      <td>0.001172</td>\n",
       "      <td>2.665518e-07</td>\n",
       "      <td>0.033166</td>\n",
       "      <td>0.003352</td>\n",
       "      <td>0.000006</td>\n",
       "      <td>1.659058e-07</td>\n",
       "      <td>0.000204</td>\n",
       "      <td>0.000422</td>\n",
       "      <td>0.000684</td>\n",
       "      <td>...</td>\n",
       "      <td>0.000303</td>\n",
       "      <td>0.005213</td>\n",
       "      <td>0.001525</td>\n",
       "      <td>0.000013</td>\n",
       "      <td>0.000373</td>\n",
       "      <td>0.000346</td>\n",
       "      <td>0.000033</td>\n",
       "      <td>0.013465</td>\n",
       "      <td>0.000045</td>\n",
       "      <td>0.003971</td>\n",
       "    </tr>\n",
       "    <tr>\n",
       "      <th>1</th>\n",
       "      <td>00102ee9d8eb90812350685311fe5890</td>\n",
       "      <td>0.001156</td>\n",
       "      <td>1.913011e-07</td>\n",
       "      <td>0.060261</td>\n",
       "      <td>0.002657</td>\n",
       "      <td>0.000005</td>\n",
       "      <td>1.108198e-07</td>\n",
       "      <td>0.000150</td>\n",
       "      <td>0.000424</td>\n",
       "      <td>0.000756</td>\n",
       "      <td>...</td>\n",
       "      <td>0.000204</td>\n",
       "      <td>0.007238</td>\n",
       "      <td>0.001304</td>\n",
       "      <td>0.000010</td>\n",
       "      <td>0.000408</td>\n",
       "      <td>0.000311</td>\n",
       "      <td>0.000029</td>\n",
       "      <td>0.011310</td>\n",
       "      <td>0.000029</td>\n",
       "      <td>0.002934</td>\n",
       "    </tr>\n",
       "    <tr>\n",
       "      <th>2</th>\n",
       "      <td>0012a730dfa437f5f3613fb75efcd4ce</td>\n",
       "      <td>0.000850</td>\n",
       "      <td>2.957188e-07</td>\n",
       "      <td>0.037868</td>\n",
       "      <td>0.003556</td>\n",
       "      <td>0.000005</td>\n",
       "      <td>1.507995e-07</td>\n",
       "      <td>0.000201</td>\n",
       "      <td>0.000437</td>\n",
       "      <td>0.000671</td>\n",
       "      <td>...</td>\n",
       "      <td>0.000323</td>\n",
       "      <td>0.005235</td>\n",
       "      <td>0.001623</td>\n",
       "      <td>0.000012</td>\n",
       "      <td>0.000380</td>\n",
       "      <td>0.000359</td>\n",
       "      <td>0.000038</td>\n",
       "      <td>0.011882</td>\n",
       "      <td>0.000041</td>\n",
       "      <td>0.003736</td>\n",
       "    </tr>\n",
       "    <tr>\n",
       "      <th>3</th>\n",
       "      <td>001510bc8570bbeee98c8d80c8a95ec1</td>\n",
       "      <td>0.000979</td>\n",
       "      <td>2.290649e-07</td>\n",
       "      <td>0.050170</td>\n",
       "      <td>0.004077</td>\n",
       "      <td>0.000004</td>\n",
       "      <td>1.019537e-07</td>\n",
       "      <td>0.000153</td>\n",
       "      <td>0.000371</td>\n",
       "      <td>0.000775</td>\n",
       "      <td>...</td>\n",
       "      <td>0.000285</td>\n",
       "      <td>0.006112</td>\n",
       "      <td>0.001593</td>\n",
       "      <td>0.000010</td>\n",
       "      <td>0.000359</td>\n",
       "      <td>0.000362</td>\n",
       "      <td>0.000031</td>\n",
       "      <td>0.010338</td>\n",
       "      <td>0.000031</td>\n",
       "      <td>0.002936</td>\n",
       "    </tr>\n",
       "    <tr>\n",
       "      <th>4</th>\n",
       "      <td>001a5f3114548acdefa3d4da05474c2e</td>\n",
       "      <td>0.000905</td>\n",
       "      <td>2.301827e-07</td>\n",
       "      <td>0.039821</td>\n",
       "      <td>0.003181</td>\n",
       "      <td>0.000005</td>\n",
       "      <td>1.340415e-07</td>\n",
       "      <td>0.000189</td>\n",
       "      <td>0.000415</td>\n",
       "      <td>0.000724</td>\n",
       "      <td>...</td>\n",
       "      <td>0.000287</td>\n",
       "      <td>0.005600</td>\n",
       "      <td>0.001407</td>\n",
       "      <td>0.000010</td>\n",
       "      <td>0.000359</td>\n",
       "      <td>0.000354</td>\n",
       "      <td>0.000031</td>\n",
       "      <td>0.013313</td>\n",
       "      <td>0.000036</td>\n",
       "      <td>0.003496</td>\n",
       "    </tr>\n",
       "  </tbody>\n",
       "</table>\n",
       "<p>5 rows × 121 columns</p>\n",
       "</div>"
      ],
      "text/plain": [
       "                                 id  affenpinscher  afghan_hound  \\\n",
       "0  000621fb3cbb32d8935728e48679680e       0.001172  2.665518e-07   \n",
       "1  00102ee9d8eb90812350685311fe5890       0.001156  1.913011e-07   \n",
       "2  0012a730dfa437f5f3613fb75efcd4ce       0.000850  2.957188e-07   \n",
       "3  001510bc8570bbeee98c8d80c8a95ec1       0.000979  2.290649e-07   \n",
       "4  001a5f3114548acdefa3d4da05474c2e       0.000905  2.301827e-07   \n",
       "\n",
       "   african_hunting_dog  airedale  american_staffordshire_terrier  \\\n",
       "0             0.033166  0.003352                        0.000006   \n",
       "1             0.060261  0.002657                        0.000005   \n",
       "2             0.037868  0.003556                        0.000005   \n",
       "3             0.050170  0.004077                        0.000004   \n",
       "4             0.039821  0.003181                        0.000005   \n",
       "\n",
       "    appenzeller  australian_terrier   basenji    basset        ...          \\\n",
       "0  1.659058e-07            0.000204  0.000422  0.000684        ...           \n",
       "1  1.108198e-07            0.000150  0.000424  0.000756        ...           \n",
       "2  1.507995e-07            0.000201  0.000437  0.000671        ...           \n",
       "3  1.019537e-07            0.000153  0.000371  0.000775        ...           \n",
       "4  1.340415e-07            0.000189  0.000415  0.000724        ...           \n",
       "\n",
       "   toy_poodle  toy_terrier    vizsla  walker_hound  weimaraner  \\\n",
       "0    0.000303     0.005213  0.001525      0.000013    0.000373   \n",
       "1    0.000204     0.007238  0.001304      0.000010    0.000408   \n",
       "2    0.000323     0.005235  0.001623      0.000012    0.000380   \n",
       "3    0.000285     0.006112  0.001593      0.000010    0.000359   \n",
       "4    0.000287     0.005600  0.001407      0.000010    0.000359   \n",
       "\n",
       "   welsh_springer_spaniel  west_highland_white_terrier   whippet  \\\n",
       "0                0.000346                     0.000033  0.013465   \n",
       "1                0.000311                     0.000029  0.011310   \n",
       "2                0.000359                     0.000038  0.011882   \n",
       "3                0.000362                     0.000031  0.010338   \n",
       "4                0.000354                     0.000031  0.013313   \n",
       "\n",
       "   wire-haired_fox_terrier  yorkshire_terrier  \n",
       "0                 0.000045           0.003971  \n",
       "1                 0.000029           0.002934  \n",
       "2                 0.000041           0.003736  \n",
       "3                 0.000031           0.002936  \n",
       "4                 0.000036           0.003496  \n",
       "\n",
       "[5 rows x 121 columns]"
      ]
     },
     "execution_count": 32,
     "metadata": {},
     "output_type": "execute_result"
    }
   ],
   "source": [
    "sub.head()"
   ]
  },
  {
   "cell_type": "code",
   "execution_count": 33,
   "metadata": {},
   "outputs": [],
   "source": [
    "sub.to_csv('should_work.csv', index = False)"
   ]
  },
  {
   "cell_type": "code",
   "execution_count": null,
   "metadata": {},
   "outputs": [],
   "source": []
  },
  {
   "cell_type": "code",
   "execution_count": null,
   "metadata": {},
   "outputs": [],
   "source": [
    " "
   ]
  }
 ],
 "metadata": {
  "kernelspec": {
   "display_name": "Python 3",
   "language": "python",
   "name": "python3"
  },
  "language_info": {
   "codemirror_mode": {
    "name": "ipython",
    "version": 3
   },
   "file_extension": ".py",
   "mimetype": "text/x-python",
   "name": "python",
   "nbconvert_exporter": "python",
   "pygments_lexer": "ipython3",
   "version": "3.6.7"
  }
 },
 "nbformat": 4,
 "nbformat_minor": 2
}
